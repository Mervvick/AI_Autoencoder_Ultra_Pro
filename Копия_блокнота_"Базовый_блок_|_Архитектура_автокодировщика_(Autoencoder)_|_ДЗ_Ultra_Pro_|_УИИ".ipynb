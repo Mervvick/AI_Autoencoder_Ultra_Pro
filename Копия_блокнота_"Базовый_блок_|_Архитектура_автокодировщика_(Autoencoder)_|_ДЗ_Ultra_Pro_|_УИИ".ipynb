{
  "nbformat": 4,
  "nbformat_minor": 0,
  "metadata": {
    "colab": {
      "provenance": [],
      "gpuType": "T4",
      "include_colab_link": true
    },
    "kernelspec": {
      "name": "python3",
      "display_name": "Python 3"
    },
    "language_info": {
      "name": "python"
    },
    "accelerator": "GPU"
  },
  "cells": [
    {
      "cell_type": "markdown",
      "metadata": {
        "id": "view-in-github",
        "colab_type": "text"
      },
      "source": [
        "<a href=\"https://colab.research.google.com/github/Mervvick/AI_Autoencoder_Ultra_Pro/blob/main/%D0%9A%D0%BE%D0%BF%D0%B8%D1%8F_%D0%B1%D0%BB%D0%BE%D0%BA%D0%BD%D0%BE%D1%82%D0%B0_%22%D0%91%D0%B0%D0%B7%D0%BE%D0%B2%D1%8B%D0%B9_%D0%B1%D0%BB%D0%BE%D0%BA_%7C_%D0%90%D1%80%D1%85%D0%B8%D1%82%D0%B5%D0%BA%D1%82%D1%83%D1%80%D0%B0_%D0%B0%D0%B2%D1%82%D0%BE%D0%BA%D0%BE%D0%B4%D0%B8%D1%80%D0%BE%D0%B2%D1%89%D0%B8%D0%BA%D0%B0_(Autoencoder)_%7C_%D0%94%D0%97_Ultra_Pro_%7C_%D0%A3%D0%98%D0%98%22.ipynb\" target=\"_parent\"><img src=\"https://colab.research.google.com/assets/colab-badge.svg\" alt=\"Open In Colab\"/></a>"
      ]
    },
    {
      "cell_type": "markdown",
      "metadata": {
        "id": "ywoRx_0m6Y17"
      },
      "source": [
        "## Задание\n",
        "\n",
        "Создайте автокодировщик, удаляющий черные квадраты в лучшайных областях изображений.\n",
        "\n",
        "Алгоритм действий:\n",
        "1. Возьмите базу картинок Mnist.\n",
        "2. На картинках в случайных местах сделайте чёрные квадраты размера 8 на 8.\n",
        "3. Создайте и обучите автокодировщик восстанавливать оригинальные изображения из \"зашумленных\" квадратом изображений.\n",
        "4. Добейтесь MSE < 0.0070 на тестовой выборке"
      ]
    },
    {
      "cell_type": "markdown",
      "metadata": {
        "id": "1qFUlKC1884a"
      },
      "source": [
        "## Импорт библиотек"
      ]
    },
    {
      "cell_type": "code",
      "metadata": {
        "id": "DvUAFGSD6SHe"
      },
      "source": [
        "# Отображение\n",
        "import matplotlib.pyplot as plt\n",
        "\n",
        "# Для работы с тензорами\n",
        "import numpy as np\n",
        "\n",
        "# Класс создания модели\n",
        "from tensorflow.keras.models import Model\n",
        "\n",
        "# Для загрузки данных\n",
        "from tensorflow.keras.datasets import mnist\n",
        "\n",
        "# Необходимые слои\n",
        "from tensorflow.keras.layers import Input, Conv2DTranspose, MaxPooling2D, Conv2D, BatchNormalization, Flatten, Dense, Reshape\n",
        "\n",
        "# Оптимизатор\n",
        "from tensorflow.keras.optimizers import Adam\n",
        "\n",
        "import random\n",
        "\n",
        "from copy import deepcopy"
      ],
      "execution_count": 1,
      "outputs": []
    },
    {
      "cell_type": "code",
      "source": [
        "def plot_images(X, pred, shape=None, n=5):\n",
        "\n",
        "    # Автоопределение формы данных\n",
        "    if shape is None:\n",
        "\n",
        "        # Форма изображения\n",
        "        shape = X.shape[1:3]\n",
        "\n",
        "    # Размер полотна\n",
        "    plt.figure(figsize=(14, 7))\n",
        "\n",
        "    # Вывод n пар изображений\n",
        "    for i in range(n):\n",
        "\n",
        "        # Выбор случайного индекса изображения\n",
        "        index = np.random.randint(0, pred.shape[0])\n",
        "\n",
        "        # Показ картинки с индексом index из набора X\n",
        "        ax = plt.subplot(2, n, i + 1)               # Картинка располагается в верхнем ряду\n",
        "\n",
        "        # Серая палитра\n",
        "        plt.imshow(X[index].reshape(shape), cmap='gray')\n",
        "\n",
        "        # Без отображения числовых осей\n",
        "        ax.get_xaxis().set_visible(False)\n",
        "        ax.get_yaxis().set_visible(False)\n",
        "\n",
        "        # Показ картинки с тем же индексом из предсказания автокодировщика\n",
        "        ax = plt.subplot(2, n, i + 1 + n)           # Картинка располагается в нижнем ряду\n",
        "\n",
        "        # Серая палитра\n",
        "        plt.imshow(pred[index].reshape(shape), cmap='gray')\n",
        "\n",
        "        # Без отображения числовых осей\n",
        "        ax.get_xaxis().set_visible(False)\n",
        "        ax.get_yaxis().set_visible(False)\n",
        "\n",
        "    plt.show()"
      ],
      "metadata": {
        "id": "UmdBew9DMxdV"
      },
      "execution_count": 2,
      "outputs": []
    },
    {
      "cell_type": "markdown",
      "metadata": {
        "id": "GeLAvneZ9GX3"
      },
      "source": [
        "## Данные"
      ]
    },
    {
      "cell_type": "code",
      "metadata": {
        "id": "HI8GBAUZ9F-T",
        "colab": {
          "base_uri": "https://localhost:8080/"
        },
        "outputId": "4fbc919e-bf99-4440-b4df-54ed182440f4"
      },
      "source": [
        "# Загрузка данных\n",
        "(X_train, y_train), (X_test, y_test) = mnist.load_data()"
      ],
      "execution_count": 3,
      "outputs": [
        {
          "output_type": "stream",
          "name": "stdout",
          "text": [
            "Downloading data from https://storage.googleapis.com/tensorflow/tf-keras-datasets/mnist.npz\n",
            "11490434/11490434 [==============================] - 0s 0us/step\n"
          ]
        }
      ]
    },
    {
      "cell_type": "code",
      "metadata": {
        "id": "OWwvDBiS9Jcx"
      },
      "source": [
        "# Нормировка данных\n",
        "X_train = X_train.astype('float32')/255.\n",
        "X_test = X_test.astype('float32')/255."
      ],
      "execution_count": 4,
      "outputs": []
    },
    {
      "cell_type": "code",
      "metadata": {
        "id": "z8tWtOfV9LCd"
      },
      "source": [
        "# Изменение формы под удобную для Keras\n",
        "X_train = X_train.reshape((-1, 28, 28, 1))\n",
        "X_test = X_test.reshape((-1, 28, 28, 1))"
      ],
      "execution_count": 5,
      "outputs": []
    },
    {
      "cell_type": "markdown",
      "source": [
        "# Черные квадраты"
      ],
      "metadata": {
        "id": "3Geod23M6W-o"
      }
    },
    {
      "cell_type": "code",
      "metadata": {
        "id": "ZoIMK8sV9RDC",
        "colab": {
          "base_uri": "https://localhost:8080/"
        },
        "outputId": "52b749fb-4df0-4d6b-996f-afd88eeec16f"
      },
      "source": [
        "# Ваше решение\n",
        "X_train.shape"
      ],
      "execution_count": 6,
      "outputs": [
        {
          "output_type": "execute_result",
          "data": {
            "text/plain": [
              "(60000, 28, 28, 1)"
            ]
          },
          "metadata": {},
          "execution_count": 6
        }
      ]
    },
    {
      "cell_type": "code",
      "source": [
        "plt.imshow(X_train[1], cmap = 'gray')\n",
        "plt.show()"
      ],
      "metadata": {
        "colab": {
          "base_uri": "https://localhost:8080/",
          "height": 430
        },
        "id": "CYiFOG6L6slm",
        "outputId": "11093420-ccf9-4de5-f50f-587f53d05cc4"
      },
      "execution_count": 7,
      "outputs": [
        {
          "output_type": "display_data",
          "data": {
            "text/plain": [
              "<Figure size 640x480 with 1 Axes>"
            ],
            "image/png": "[encoded data removed]"
          },
          "metadata": {}
        }
      ]
    },
    {
      "cell_type": "code",
      "source": [
        "a = [1, 2, 3]\n",
        "b = a[:]\n",
        "b[1] = 9\n",
        "print(a, b)"
      ],
      "metadata": {
        "colab": {
          "base_uri": "https://localhost:8080/"
        },
        "id": "8ZMrT_ve_EVO",
        "outputId": "403cf752-b090-4c4d-9720-5e2a7c545295"
      },
      "execution_count": 8,
      "outputs": [
        {
          "output_type": "stream",
          "name": "stdout",
          "text": [
            "[1, 2, 3] [1, 9, 3]\n"
          ]
        }
      ]
    },
    {
      "cell_type": "code",
      "source": [
        "def squared(data):\n",
        "  x_train_squared = deepcopy(X_train)\n",
        "  for img in x_train_squared:\n",
        "    x = random.randint(0, 20)\n",
        "    for row in range(x, x + 8):\n",
        "      img[row][x:x+8] = 0\n",
        "  return x_train_squared"
      ],
      "metadata": {
        "id": "AHCJ_40h6zfC"
      },
      "execution_count": 9,
      "outputs": []
    },
    {
      "cell_type": "code",
      "source": [
        "X_train_squared = squared(X_train)"
      ],
      "metadata": {
        "id": "ZteYFA4YD-Hq"
      },
      "execution_count": 10,
      "outputs": []
    },
    {
      "cell_type": "code",
      "source": [
        "plt.figure(figsize = (20, 5))\n",
        "for i in range(10):\n",
        "  axs = plt.subplot(2, 10, i + 1)\n",
        "  axs.imshow(X_train[i], cmap = 'gray')\n",
        "  axs.axis('off')\n",
        "\n",
        "  axs = plt.subplot(2, 10, i + 11)\n",
        "  axs.imshow(X_train_squared[i], cmap = 'gray')\n",
        "  axs.axis('off')\n",
        "\n",
        "plt.show()"
      ],
      "metadata": {
        "colab": {
          "base_uri": "https://localhost:8080/",
          "height": 342
        },
        "id": "Mj7rMXJZD_a7",
        "outputId": "e4e16768-ab15-436e-80f1-0b13f04a3f38"
      },
      "execution_count": 11,
      "outputs": [
        {
          "output_type": "display_data",
          "data": {
            "text/plain": [
              "<Figure size 2000x500 with 20 Axes>"
            ],
            "image/png": "[encoded data removed]"
          },
          "metadata": {}
        }
      ]
    },
    {
      "cell_type": "code",
      "source": [
        "X_test_squared = squared(X_test)"
      ],
      "metadata": {
        "id": "f64_sza6P1Gn"
      },
      "execution_count": 23,
      "outputs": []
    },
    {
      "cell_type": "markdown",
      "source": [
        "# Автокодировщик"
      ],
      "metadata": {
        "id": "qoJScTuGGbf_"
      }
    },
    {
      "cell_type": "code",
      "source": [
        "encoder_input = Input(X_train.shape[1:]) # 28, 28, 1\n",
        "x = Conv2D(8, 3, activation = 'relu', padding = 'same', dilation_rate = 2)(encoder_input) # 28, 28, 8\n",
        "x = BatchNormalization()(x)\n",
        "x = Conv2D(16, 3, activation = 'relu', padding = 'same', dilation_rate = 2)(x) # 28, 28, 16\n",
        "x = BatchNormalization()(x)\n",
        "x = Conv2D(16, 3, activation = 'relu', padding = 'same', strides = 2)(x) # 14, 14, 16\n",
        "x = BatchNormalization()(x)\n",
        "x = Conv2D(32, 3, activation = 'relu', padding = 'same')(x) # 14, 14, 32\n",
        "x = BatchNormalization()(x)\n",
        "x = Conv2D(64, 3, activation = 'relu', padding = 'same')(x) # 14, 14, 64\n",
        "x = BatchNormalization()(x)\n",
        "x = Conv2D(64, 3, activation = 'relu', padding = 'same', strides = 2)(x) # 7, 7, 64\n",
        "x = BatchNormalization()(x)\n",
        "\n",
        "pre_flat_shape = x.shape[1:]\n",
        "x = Flatten()(x) # 3136\n",
        "flat_shape = x.shape[1]\n",
        "\n",
        "x = Dense(512)(x)\n",
        "encoder_output = Dense(64)(x)\n",
        "\n",
        "\n",
        "decoder_input = Input(64)\n",
        "x = Dense(512)(decoder_input)\n",
        "x = Dense(flat_shape)(x)\n",
        "x = Reshape(pre_flat_shape)(x) # 7, 7, 64\n",
        "x = Conv2DTranspose(64, 3, activation = 'relu', padding = 'same', strides = 2)(x)# 14, 14, 64\n",
        "x = BatchNormalization()(x)\n",
        "x = Conv2D(64, 3, activation = 'relu', padding = 'same')(x) # 14, 14, 64\n",
        "x = BatchNormalization()(x)\n",
        "x = Conv2D(32, 3, activation = 'relu', padding = 'same')(x) # 14, 14, 32\n",
        "x = BatchNormalization()(x)\n",
        "x = Conv2DTranspose(16, 3, activation = 'relu', padding = 'same', strides = 2)(x)# 28, 28, 16\n",
        "x = BatchNormalization()(x)\n",
        "x = Conv2D(16, 3, activation = 'relu', padding = 'same')(x) # 28, 28, 16\n",
        "x = BatchNormalization()(x)\n",
        "x = Conv2D(8, 3, activation = 'relu', padding = 'same')(x) # 28, 28, 8\n",
        "x = BatchNormalization()(x)\n",
        "decoder_output = Conv2D(1, 3, activation = 'relu', padding = 'same')(x) # 28, 28, 1\n",
        "\n",
        "encoder = Model(encoder_input, encoder_output)\n",
        "decoder = Model(decoder_input, decoder_output)\n",
        "\n",
        "autoencoder = Model(encoder_input, decoder(encoder(encoder_input)))\n",
        "autoencoder.summary()"
      ],
      "metadata": {
        "colab": {
          "base_uri": "https://localhost:8080/"
        },
        "id": "ER1ASxsqGaTJ",
        "outputId": "6fca8e94-6d18-4bbc-80bb-eba03de5021c"
      },
      "execution_count": 18,
      "outputs": [
        {
          "output_type": "stream",
          "name": "stdout",
          "text": [
            "Model: \"model_8\"\n",
            "_________________________________________________________________\n",
            " Layer (type)                Output Shape              Param #   \n",
            "=================================================================\n",
            " input_5 (InputLayer)        [(None, 28, 28, 1)]       0         \n",
            "                                                                 \n",
            " model_6 (Functional)        (None, 64)                1703408   \n",
            "                                                                 \n",
            " model_7 (Functional)        (None, 28, 28, 1)         1743345   \n",
            "                                                                 \n",
            "=================================================================\n",
            "Total params: 3,446,753\n",
            "Trainable params: 3,445,953\n",
            "Non-trainable params: 800\n",
            "_________________________________________________________________\n"
          ]
        }
      ]
    },
    {
      "cell_type": "code",
      "source": [
        "autoencoder.compile(Adam(0.001),\n",
        "                    loss = 'MSE')\n",
        "\n",
        "autoencoder.fit(X_train_squared,\n",
        "                X_train,\n",
        "                batch_size = 16,\n",
        "                epochs = 5,\n",
        "                verbose = 1)"
      ],
      "metadata": {
        "colab": {
          "base_uri": "https://localhost:8080/"
        },
        "id": "FALE4FZYMVEQ",
        "outputId": "1908035f-c503-4bf3-ae0c-6f2404e25f16"
      },
      "execution_count": 19,
      "outputs": [
        {
          "output_type": "stream",
          "name": "stdout",
          "text": [
            "Epoch 1/5\n",
            "3750/3750 [==============================] - 57s 12ms/step - loss: 0.0203\n",
            "Epoch 2/5\n",
            "3750/3750 [==============================] - 47s 12ms/step - loss: 0.0098\n",
            "Epoch 3/5\n",
            "3750/3750 [==============================] - 47s 12ms/step - loss: 0.0079\n",
            "Epoch 4/5\n",
            "3750/3750 [==============================] - 47s 12ms/step - loss: 0.0066\n",
            "Epoch 5/5\n",
            "3750/3750 [==============================] - 47s 12ms/step - loss: 0.0056\n"
          ]
        },
        {
          "output_type": "execute_result",
          "data": {
            "text/plain": [
              "<keras.callbacks.History at 0x7abf084f0bb0>"
            ]
          },
          "metadata": {},
          "execution_count": 19
        }
      ]
    },
    {
      "cell_type": "code",
      "source": [
        "pred = autoencoder.predict(X_test_squared)\n",
        "plot_images(X_test_squared, pred)"
      ],
      "metadata": {
        "colab": {
          "base_uri": "https://localhost:8080/",
          "height": 535
        },
        "id": "GC8xsNiQM0Vz",
        "outputId": "36c7859c-d402-46c6-e000-7916f424ee3f"
      },
      "execution_count": 28,
      "outputs": [
        {
          "output_type": "stream",
          "name": "stdout",
          "text": [
            "1875/1875 [==============================] - 7s 4ms/step\n"
          ]
        },
        {
          "output_type": "display_data",
          "data": {
            "text/plain": [
              "<Figure size 1400x700 with 10 Axes>"
            ],
            "image/png": "[encoded data removed]"
          },
          "metadata": {}
        }
      ]
    },
    {
      "cell_type": "markdown",
      "source": [
        "Работает!"
      ],
      "metadata": {
        "id": "slvCnYMLQd3g"
      }
    }
  ]
}